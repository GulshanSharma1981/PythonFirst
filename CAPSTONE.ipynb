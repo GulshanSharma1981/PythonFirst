{
 "cells": [
  {
   "cell_type": "code",
   "execution_count": null,
   "metadata": {},
   "outputs": [],
   "source": [
    "# importing all the necessary libraries\n",
    "import pandas as pd\n",
    "import matplotlib.pyplot as plt\n",
    "import numpy as np"
   ]
  },
  {
   "cell_type": "code",
   "execution_count": null,
   "metadata": {},
   "outputs": [],
   "source": [
    "# Loading the csv files into dataframe\n",
    "AAL_avi = pd.read_csv('AAL_avi.csv',parse_dates=True, index_col='Date')\n",
    "AAPL_tech = pd.read_csv('AAPL_tech.csv',parse_dates=True, index_col='Date')\n",
    "ALK_avi = pd.read_csv('ALK_avi.csv',parse_dates=True, index_col='Date')\n",
    "AMZN_tech = pd.read_csv('AMZN_tech.csv',parse_dates=True, index_col='Date')\n",
    "BHC_pharma = pd.read_csv('BHC_pharma.csv',parse_dates=True, index_col='Date')\n",
    "CS_fin = pd.read_csv('CS_fin.csv',parse_dates=True, index_col='Date')\n",
    "DB_fin = pd.read_csv('DB_fin.csv',parse_dates=True, index_col='Date')\n",
    "GOOG_tech = pd.read_csv('GOOG_tech.csv',parse_dates=True, index_col='Date')\n",
    "GS_fin = pd.read_csv('GS_fin.csv',parse_dates=True, index_col='Date')\n",
    "HA_avi = pd.read_csv('HA_avi.csv',parse_dates=True, index_col='Date')\n",
    "JNJ_pharma = pd.read_csv('JNJ_pharma.csv',parse_dates=True, index_col='Date')\n",
    "MRK_pharma = pd.read_csv('MRK_pharma.csv',parse_dates=True, index_col='Date')\n",
    "\n",
    "sp500 = pd.read_csv('S&P500.csv', parse_dates=True, index_col='Date')"
   ]
  },
  {
   "cell_type": "code",
   "execution_count": null,
   "metadata": {},
   "outputs": [],
   "source": [
    "# joining the two datasets \n",
    "prices = pd.concat([AAL_avi['Close'],AAPL_tech['Close'],ALK_avi['Close'],AMZN_tech['Close'],BHC_pharma['Close'],CS_fin['Close'],\n",
    "                    DB_fin['Close'],GOOG_tech['Close'],GS_fin['Close'],HA_avi['Close'],JNJ_pharma['Close'],MRK_pharma['Close'],\n",
    "                    sp500['Close']], axis=1)\n",
    "prices.columns = ['AAL_avi', 'AAPL_tech','ALK_avi','AMZN_tech','BHC_pharma','CS_fin','DB_fin','GOOG_tech','GS_fin','HA_avi',\n",
    "                  'JNJ_pharma','MRK_pharma', 'sp500']"
   ]
  }
 ],
 "metadata": {
  "kernelspec": {
   "display_name": "Python 3",
   "language": "python",
   "name": "python3"
  },
  "language_info": {
   "codemirror_mode": {
    "name": "ipython",
    "version": 3
   },
   "file_extension": ".py",
   "mimetype": "text/x-python",
   "name": "python",
   "nbconvert_exporter": "python",
   "pygments_lexer": "ipython3",
   "version": "3.8.3"
  }
 },
 "nbformat": 4,
 "nbformat_minor": 4
}
